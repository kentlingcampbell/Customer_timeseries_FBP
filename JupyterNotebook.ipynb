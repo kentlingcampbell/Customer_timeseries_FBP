{
 "cells": [
  {
   "cell_type": "markdown",
   "metadata": {},
   "source": [
    "# ED VISISTS - jkc"
   ]
  },
  {
   "cell_type": "markdown",
   "metadata": {},
   "source": [
    "## Ingest"
   ]
  },
  {
   "cell_type": "markdown",
   "metadata": {},
   "source": [
    "### Libraries"
   ]
  },
  {
   "cell_type": "code",
   "execution_count": null,
   "metadata": {},
   "outputs": [],
   "source": [
    "import pandas as pd\n",
    "from pandas import to_datetime\n",
    "import numpy as np\n",
    "import matplotlib.pyplot as plt\n",
    "import matplotlib.dates as mdates\n",
    "import seaborn as sns\n",
    "import statsmodels.api as sm\n",
    "from sklearn.metrics import mean_absolute_error\n",
    "from fbprophet import Prophet "
   ]
  },
  {
   "cell_type": "code",
   "execution_count": null,
   "metadata": {},
   "outputs": [],
   "source": [
    "# Use seaborn style defaults and set the default figure size\n",
    "sns.set(rc={'figure.figsize':(22, 8)})"
   ]
  },
  {
   "cell_type": "markdown",
   "metadata": {},
   "source": [
    "### Load Data"
   ]
  },
  {
   "cell_type": "code",
   "execution_count": null,
   "metadata": {},
   "outputs": [],
   "source": [
    "filename = 'Y:\\Data\\ED_visits_2015_2020.csv'\n",
    "edvisit = pd.read_csv(filename, parse_dates=['ed_door_time', 'roomed_time', 'ed_discharge_time', \\\n",
    "                                             'triage_time', 'sort_time', 'notify_time', 'refer_time', \\\n",
    "                                             'adt_arrival_time', 'hosp_admsn_time', 'hosp_disch_time', \\\n",
    "                                            'record_create_time'], index_col='record_create_time')\n",
    "edvisit_colName = list(edvisit)"
   ]
  },
  {
   "cell_type": "code",
   "execution_count": null,
   "metadata": {},
   "outputs": [],
   "source": [
    "#edvisit.dtypes\n",
    "edvisit.info()"
   ]
  },
  {
   "cell_type": "code",
   "execution_count": null,
   "metadata": {
    "scrolled": true
   },
   "outputs": [],
   "source": [
    "edvisit.head(5)"
   ]
  },
  {
   "cell_type": "code",
   "execution_count": null,
   "metadata": {},
   "outputs": [],
   "source": [
    "# Nulls\n",
    "#print(edvisit.isnull().sum())\n",
    "null_columns=edvisit.columns[edvisit.isnull().any()]"
   ]
  },
  {
   "cell_type": "code",
   "execution_count": null,
   "metadata": {
    "scrolled": true
   },
   "outputs": [],
   "source": [
    "edvisit.index"
   ]
  },
  {
   "cell_type": "code",
   "execution_count": null,
   "metadata": {},
   "outputs": [],
   "source": [
    "print('Min: ', edvisit.index.date.min())\n",
    "print('Max: ', edvisit.index.date.max())"
   ]
  },
  {
   "cell_type": "code",
   "execution_count": null,
   "metadata": {},
   "outputs": [],
   "source": [
    "# Remove the 2014 records\n",
    "edvisit = edvisit.loc['2015':'2020']"
   ]
  },
  {
   "cell_type": "code",
   "execution_count": null,
   "metadata": {
    "scrolled": false
   },
   "outputs": [],
   "source": [
    "edvisit.head(3)"
   ]
  },
  {
   "cell_type": "markdown",
   "metadata": {},
   "source": [
    "## Feature Engineering"
   ]
  },
  {
   "cell_type": "code",
   "execution_count": null,
   "metadata": {},
   "outputs": [],
   "source": [
    "# Make acuity_level an integer\n",
    "#print(edvisit['acuity_level'].unique())\n",
    "acuity_level_dict = {'L1':1, 'L2':2, 'L3':3, 'L4':4, 'L5':5, 'PVO':0}\n",
    "edvisit['acuity_level_int'] = edvisit['acuity_level'].map(acuity_level_dict)\n",
    "#edvisit.head(3)"
   ]
  },
  {
   "cell_type": "code",
   "execution_count": null,
   "metadata": {},
   "outputs": [],
   "source": [
    "# Make DISPOSITION an integer\n",
    "#print(edvisit['DISPOSITION'].unique())\n",
    "DISPOSITION_list = edvisit['DISPOSITION'].unique()\n",
    "DISPOSITION_dict = dict(zip(DISPOSITION_list, range(len(DISPOSITION_list))))\n",
    "edvisit['DISPOSITION_int'] = edvisit['DISPOSITION'].map(DISPOSITION_dict)\n",
    "#edvisit.head(3)"
   ]
  },
  {
   "cell_type": "code",
   "execution_count": null,
   "metadata": {},
   "outputs": [],
   "source": [
    "# Make admit_conf_stat an integer\n",
    "print(edvisit['admit_conf_stat'].unique())\n",
    "# Note - nothing other than Confirmed, so drop column\n",
    "edvisit = edvisit.drop(columns=['admit_conf_stat'])"
   ]
  },
  {
   "cell_type": "code",
   "execution_count": null,
   "metadata": {
    "scrolled": false
   },
   "outputs": [],
   "source": [
    "# Create time attributes\n",
    "edvisit['Date'] = edvisit.index.date\n",
    "edvisit['Year'] = edvisit.index.year\n",
    "edvisit['Month'] = edvisit.index.month\n",
    "edvisit['Day'] = edvisit.index.day\n",
    "edvisit['DayofWeek'] = edvisit.index.weekday\n",
    "edvisit['DayofYear'] = edvisit.index.dayofyear\n",
    "edvisit.tail(3)"
   ]
  },
  {
   "cell_type": "code",
   "execution_count": null,
   "metadata": {},
   "outputs": [],
   "source": [
    "# Create door2dis\n",
    "#edvisit['ed_discharge_time'].isnull().sum()                              # note 1427 NULLS\n",
    "#edvisit.loc[edvisit['ed_discharge_time'].isnull() != True]\n",
    "edvisit['door2dis'] = edvisit['ed_discharge_time'] - edvisit['ed_door_time']"
   ]
  },
  {
   "cell_type": "markdown",
   "metadata": {},
   "source": [
    "## EDA"
   ]
  },
  {
   "cell_type": "code",
   "execution_count": null,
   "metadata": {
    "scrolled": true
   },
   "outputs": [],
   "source": [
    "edvisit.describe()"
   ]
  },
  {
   "cell_type": "code",
   "execution_count": null,
   "metadata": {},
   "outputs": [],
   "source": [
    "# Records created per day\n",
    "recsperday = edvisit.groupby(['Date']).size()\n",
    "\n",
    "sns.lineplot(data=recsperday)\n",
    "# 7 day rolling median\n",
    "sns.lineplot(data=recsperday.rolling(window=7).median())"
   ]
  },
  {
   "cell_type": "code",
   "execution_count": null,
   "metadata": {
    "scrolled": true
   },
   "outputs": [],
   "source": [
    "# Acuity levels combined (same as record create minus the 2k NaN's)\n",
    "edvisit.groupby(['Date'])['acuity_level'].count()"
   ]
  },
  {
   "cell_type": "code",
   "execution_count": null,
   "metadata": {
    "scrolled": false
   },
   "outputs": [],
   "source": [
    "# Acuity levels separated\n",
    "edvisit.groupby(['Date', 'acuity_level'])['Date'].count().unstack().plot()"
   ]
  },
  {
   "cell_type": "code",
   "execution_count": null,
   "metadata": {},
   "outputs": [],
   "source": [
    "# Covid zoom-in by slicing\n",
    "covidTransition = edvisit.loc['2019-10':'2021']"
   ]
  },
  {
   "cell_type": "code",
   "execution_count": null,
   "metadata": {
    "scrolled": true
   },
   "outputs": [],
   "source": [
    "covidTransition.groupby(['Date', 'acuity_level'])['Date'].count().unstack().plot()"
   ]
  },
  {
   "cell_type": "markdown",
   "metadata": {},
   "source": [
    "## Extract data for aggregation/EDA and modeling"
   ]
  },
  {
   "cell_type": "code",
   "execution_count": null,
   "metadata": {},
   "outputs": [],
   "source": [
    "# Extract acuity levels's  (need to loop/function this)\n",
    "edviL1 = edvisit[edvisit['acuity_level'] == 'L1']\n",
    "list_edviL1 = edviL1['acuity_level'].resample('D').count()\n",
    "\n",
    "edviL2 = edvisit[edvisit['acuity_level'] == 'L2']\n",
    "list_edviL2 = edviL2['acuity_level'].resample('D').count()\n",
    "\n",
    "edviL3 = edvisit[edvisit['acuity_level'] == 'L3']\n",
    "list_edviL3 = edviL3['acuity_level'].resample('D').count()\n",
    "\n",
    "edviL4 = edvisit[edvisit['acuity_level'] == 'L4']\n",
    "list_edviL4 = edviL4['acuity_level'].resample('D').count()\n",
    "\n",
    "edviL5 = edvisit[edvisit['acuity_level'] == 'L5']\n",
    "list_edviL5 = edviL5['acuity_level'].resample('D').count()\n",
    "\n",
    "edvipvo = edvisit[edvisit['acuity_level'] == 'PVO']\n",
    "list_edvipvo = edvipvo['acuity_level'].resample('D').count()"
   ]
  },
  {
   "cell_type": "code",
   "execution_count": null,
   "metadata": {
    "scrolled": true
   },
   "outputs": [],
   "source": [
    "# Create dataframe\n",
    "edvi_BY_DAY = pd.DataFrame()\n",
    "edvi_BY_DAY['L5'] = list_edviL5\n",
    "edvi_BY_DAY['L4'] = list_edviL4\n",
    "edvi_BY_DAY['L3'] = list_edviL3\n",
    "edvi_BY_DAY['L2'] = list_edviL2\n",
    "edvi_BY_DAY['L1'] = list_edviL1\n",
    "edvi_BY_DAY['PVO'] = list_edvipvo\n",
    "edvi_BY_DAY['acTot'] = edvi_BY_DAY['L5'] + edvi_BY_DAY['L4'] + edvi_BY_DAY['L3'] + edvi_BY_DAY['L2'] + edvi_BY_DAY['L1'] #+ edvi_BY_DAY['PVO']\n",
    "edvi_BY_DAY['highAcuity'] = edvi_BY_DAY['L3'] + edvi_BY_DAY['L2'] + edvi_BY_DAY['L1']\n",
    "edvi_BY_DAY['lowAcuity'] = edvi_BY_DAY['L5'] + edvi_BY_DAY['L4'] #+ edvi_BY_DAY['PVO']\n",
    "#\n",
    "#      NOTE - ABOVE PVO ommitted from series dues to NULLS?????\n",
    "#\n",
    "\n",
    "# Converting the index as date\n",
    "#edvi_BY_DAY.index = edvi_BY_DAY.to_datetime(edvi_BY_DAY.index)\n",
    "edvi_BY_DAY = edvi_BY_DAY.reset_index()\n",
    "edvi_BY_DAY = edvi_BY_DAY.set_index('record_create_time')\n",
    "edvi_BY_DAY.sort_index(inplace=True)\n",
    "\n",
    "# Create time attributes\n",
    "edvi_BY_DAY['Date'] = edvi_BY_DAY.index.date\n",
    "edvi_BY_DAY['Year'] = edvi_BY_DAY.index.year\n",
    "edvi_BY_DAY['Month'] = edvi_BY_DAY.index.month\n",
    "edvi_BY_DAY['Day'] = edvi_BY_DAY.index.day\n",
    "edvi_BY_DAY['WeekdayName'] = edvi_BY_DAY.index.weekday\n",
    "edvi_BY_DAY['DayofWeek'] = edvi_BY_DAY.index.weekday\n",
    "edvi_BY_DAY['DayofYear'] = edvi_BY_DAY.index.dayofyear"
   ]
  },
  {
   "cell_type": "code",
   "execution_count": null,
   "metadata": {},
   "outputs": [],
   "source": [
    "cols_plot = ['highAcuity', 'lowAcuity','acTot', 'L1', 'L2', 'L3', 'L4', 'L5', 'PVO']\n",
    "axes = edvi_BY_DAY[cols_plot].plot(marker='.', alpha=0.5, linestyle='None', figsize=(22, 22), subplots=True)\n",
    "for ax in axes:\n",
    "    ax.set_ylabel('Daily Totals (Acuity)')"
   ]
  },
  {
   "cell_type": "markdown",
   "metadata": {},
   "source": [
    "## Seasonality"
   ]
  },
  {
   "cell_type": "code",
   "execution_count": null,
   "metadata": {
    "scrolled": true
   },
   "outputs": [],
   "source": [
    "fig, axes = plt.subplots(9, 1, figsize=(22, 22), sharex=True)\n",
    "for name, ax in zip(['highAcuity', 'lowAcuity', 'acTot', 'L1', 'L2', 'L3', 'L4', 'L5', 'PVO'], axes):\n",
    "    sns.boxplot(data=edvi_BY_DAY, x='Month', y=name, ax=ax)\n",
    "ax.set_ylabel('Daily Totals (acuity)')\n",
    "ax.set_title(name)\n",
    "# Remove the automatic x-axis label from all but the bottom subplot\n",
    "#if ax != axes[-1]:\n",
    "#    ax.set_xlabel('')"
   ]
  },
  {
   "cell_type": "markdown",
   "metadata": {},
   "source": [
    "## Weekly"
   ]
  },
  {
   "cell_type": "code",
   "execution_count": null,
   "metadata": {},
   "outputs": [],
   "source": [
    "sns.boxplot(data=edvi_BY_DAY, x='WeekdayName', y='acTot');"
   ]
  },
  {
   "cell_type": "code",
   "execution_count": null,
   "metadata": {},
   "outputs": [],
   "source": [
    "# Resampling to weekly for visualization\n",
    "data_columns = ['highAcuity', 'lowAcuity', 'acTot', 'L1', 'L2', 'L3', 'L4', 'L5', 'PVO']\n",
    "# Resample to weekly frequency, aggregating with mean\n",
    "edvi_BY_WEEK_mean = edvi_BY_DAY[data_columns].resample('W').mean()\n",
    "#edvi_BY_WEEK_mean.head(3)"
   ]
  },
  {
   "cell_type": "code",
   "execution_count": null,
   "metadata": {},
   "outputs": [],
   "source": [
    "# Start and end of the date range to extract\n",
    "start, end = '2015', '2021'\n",
    "# Plot daily and weekly resampled time series together\n",
    "fig, ax = plt.subplots()\n",
    "ax.plot(edvi_BY_DAY.loc[start:end, 'acTot'], linestyle='-', linewidth=0.5, label='Daily')\n",
    "ax.plot(edvi_BY_WEEK_mean.loc[start:end, 'acTot'], markersize=8, linestyle='-', label='Weekly Mean Resample')\n",
    "ax.set_ylabel('acTot')\n",
    "ax.legend();"
   ]
  },
  {
   "cell_type": "markdown",
   "metadata": {},
   "source": [
    "## Rolling windows"
   ]
  },
  {
   "cell_type": "code",
   "execution_count": null,
   "metadata": {
    "scrolled": true
   },
   "outputs": [],
   "source": [
    "# Compute the centered 7-day rolling mean\n",
    "edvi_BY_DAY_7d = edvi_BY_DAY[data_columns].rolling(7, center=True).mean()\n",
    "#edvi_BY_DAY_7d.head(5)"
   ]
  },
  {
   "cell_type": "code",
   "execution_count": null,
   "metadata": {},
   "outputs": [],
   "source": [
    "# Start and end of the date range to extract\n",
    "start, end = '2019', '2020'\n",
    "# Plot daily, weekly resampled, and 7-day rolling mean time series together\n",
    "fig, ax = plt.subplots()\n",
    "ax.plot(edvi_BY_DAY.loc[start:end, 'acTot'], linestyle='-', linewidth=0.5, label='Daily')\n",
    "ax.plot(edvi_BY_WEEK_mean.loc[start:end, 'acTot'], markersize=8, linestyle='-', label='Weekly Mean Resample')\n",
    "ax.plot(edvi_BY_DAY_7d.loc[start:end, 'acTot'], linestyle='-', label='7-d Rolling Mean')\n",
    "ax.set_ylabel('acTot')\n",
    "ax.legend();"
   ]
  },
  {
   "cell_type": "markdown",
   "metadata": {},
   "source": [
    "## Trends"
   ]
  },
  {
   "cell_type": "code",
   "execution_count": null,
   "metadata": {},
   "outputs": [],
   "source": [
    "edvi_BY_DAY_365d = edvi_BY_DAY[data_columns].rolling(window=365, center=True, min_periods=360).mean()"
   ]
  },
  {
   "cell_type": "code",
   "execution_count": null,
   "metadata": {},
   "outputs": [],
   "source": [
    "# Plot daily, 7-day rolling mean, and 365-day rolling mean time series\n",
    "fig, ax = plt.subplots()\n",
    "ax.plot(edvi_BY_DAY['acTot'], marker='.', markersize=2, color='0.25', linestyle='None', label='Daily')\n",
    "ax.plot(edvi_BY_DAY_7d['acTot'], linewidth=2, label='7-d Rolling Mean')\n",
    "ax.plot(edvi_BY_DAY_365d['acTot'], color='0.2', linewidth=3,\n",
    "label='Trend (365-d Rolling Mean)')\n",
    "# Set x-ticks to yearly interval and add legend and labels\n",
    "ax.xaxis.set_major_locator(mdates.YearLocator())\n",
    "ax.legend()\n",
    "ax.set_xlabel('Year')\n",
    "ax.set_ylabel('acTot')\n",
    "ax.set_title('Trends in EDVISITS');"
   ]
  },
  {
   "cell_type": "code",
   "execution_count": null,
   "metadata": {
    "scrolled": true
   },
   "outputs": [],
   "source": [
    "# Start and end of the date range to extract\n",
    "start, end = '2015', '2021'\n",
    "# Plot daily and weekly resampled time series together\n",
    "fig, ax = plt.subplots()\n",
    "ax.plot(edvi_BY_DAY_7d.loc[start:end,'highAcuity'], linewidth=2, label='highAcuity 7-d Rolling Mean')\n",
    "ax.plot(edvi_BY_DAY_7d.loc[start:end,'lowAcuity'], linewidth=2, label='lowAcuity 7-d Rolling Mean')\n",
    "ax.plot(edvi_BY_DAY_7d.loc[start:end,'acTot'], linewidth=2, label='acTot 7-d Rolling Mean')\n",
    "ax.plot(edvi_BY_DAY_7d.loc[start:end,'L1'], linewidth=2, label='L1 7-d Rolling Mean')\n",
    "ax.plot(edvi_BY_DAY_7d.loc[start:end,'L2'], linewidth=2, label='L2 7-d Rolling Mean')\n",
    "ax.plot(edvi_BY_DAY_7d.loc[start:end,'L3'], linewidth=2, label='L3 7-d Rolling Mean')\n",
    "ax.plot(edvi_BY_DAY_7d.loc[start:end,'L4'], linewidth=2, label='L4 7-d Rolling Mean')\n",
    "ax.plot(edvi_BY_DAY_7d.loc[start:end,'L5'], linewidth=2, label='L5 7-d Rolling Mean')\n",
    "ax.plot(edvi_BY_DAY_7d.loc[start:end,'PVO'], linewidth=2, label='PVO 7-d Rolling Mean')\n",
    "ax.set_ylabel('acTot')\n",
    "ax.legend();"
   ]
  },
  {
   "cell_type": "markdown",
   "metadata": {},
   "source": [
    "## Zoom in to se COVID drop"
   ]
  },
  {
   "cell_type": "code",
   "execution_count": null,
   "metadata": {},
   "outputs": [],
   "source": [
    "# Start and end of the date range to extract\n",
    "start, end = '2020-1', '2020-6'\n",
    "# Plot daily and weekly resampled time series together\n",
    "fig, ax = plt.subplots()\n",
    "ax.plot(edvi_BY_DAY_7d.loc[start:end,'highAcuity'], linewidth=2, label='highAcuity 7-d Rolling Mean')\n",
    "ax.plot(edvi_BY_DAY_7d.loc[start:end,'lowAcuity'], linewidth=2, label='lowAcuity 7-d Rolling Mean')\n",
    "ax.plot(edvi_BY_DAY_7d.loc[start:end,'acTot'], linewidth=2, label='acTot 7-d Rolling Mean')\n",
    "ax.plot(edvi_BY_DAY_7d.loc[start:end,'L1'], linewidth=2, label='L1 7-d Rolling Mean')\n",
    "ax.plot(edvi_BY_DAY_7d.loc[start:end,'L2'], linewidth=2, label='L2 7-d Rolling Mean')\n",
    "ax.plot(edvi_BY_DAY_7d.loc[start:end,'L3'], linewidth=2, label='L3 7-d Rolling Mean')\n",
    "ax.plot(edvi_BY_DAY_7d.loc[start:end,'L4'], linewidth=2, label='L4 7-d Rolling Mean')\n",
    "ax.plot(edvi_BY_DAY_7d.loc[start:end,'L5'], linewidth=2, label='L5 7-d Rolling Mean')\n",
    "ax.plot(edvi_BY_DAY_7d.loc[start:end,'PVO'], linewidth=2, label='PVO 7-d Rolling Mean')\n",
    "ax.set_ylabel('acTot')\n",
    "ax.legend();"
   ]
  },
  {
   "cell_type": "markdown",
   "metadata": {},
   "source": [
    "## Even more"
   ]
  },
  {
   "cell_type": "code",
   "execution_count": null,
   "metadata": {},
   "outputs": [],
   "source": [
    "# Start and end of the date range to extract\n",
    "start, end = '2020-3-1', '2020-4-15'\n",
    "# Plot daily and weekly resampled time series together\n",
    "fig, ax = plt.subplots()\n",
    "ax.plot(edvi_BY_DAY_7d.loc[start:end,'highAcuity'], linewidth=2, label='highAcuity 7-d Rolling Mean')\n",
    "ax.plot(edvi_BY_DAY_7d.loc[start:end,'lowAcuity'], linewidth=2, label='lowAcuity 7-d Rolling Mean')\n",
    "ax.plot(edvi_BY_DAY_7d.loc[start:end,'acTot'], linewidth=2, label='acTot 7-d Rolling Mean')\n",
    "ax.plot(edvi_BY_DAY_7d.loc[start:end,'L1'], linewidth=2, label='L1 7-d Rolling Mean')\n",
    "ax.plot(edvi_BY_DAY_7d.loc[start:end,'L2'], linewidth=2, label='L2 7-d Rolling Mean')\n",
    "ax.plot(edvi_BY_DAY_7d.loc[start:end,'L3'], linewidth=2, label='L3 7-d Rolling Mean')\n",
    "ax.plot(edvi_BY_DAY_7d.loc[start:end,'L4'], linewidth=2, label='L4 7-d Rolling Mean')\n",
    "ax.plot(edvi_BY_DAY_7d.loc[start:end,'L5'], linewidth=2, label='L5 7-d Rolling Mean')\n",
    "ax.plot(edvi_BY_DAY_7d.loc[start:end,'PVO'], linewidth=2, label='PVO 7-d Rolling Mean')\n",
    "ax.set_ylabel('acTot')\n",
    "ax.legend();"
   ]
  },
  {
   "cell_type": "markdown",
   "metadata": {},
   "source": [
    "## Prophet Forecasting - PREDICTING Q4"
   ]
  },
  {
   "cell_type": "code",
   "execution_count": null,
   "metadata": {},
   "outputs": [],
   "source": [
    "%matplotlib inline \n",
    "plt.rcParams['figure.figsize']=(20,10)\n",
    "plt.style.use('ggplot')"
   ]
  },
  {
   "cell_type": "code",
   "execution_count": null,
   "metadata": {},
   "outputs": [],
   "source": [
    "# Remove the 2020 Q4 records\n",
    "edvi_BY_DAY_Q4PRED = edvi_BY_DAY.loc['2015':'2020-9']"
   ]
  },
  {
   "cell_type": "code",
   "execution_count": null,
   "metadata": {},
   "outputs": [],
   "source": [
    "edvi_BY_DAY_Q4PRED.head()"
   ]
  },
  {
   "cell_type": "code",
   "execution_count": null,
   "metadata": {
    "scrolled": false
   },
   "outputs": [],
   "source": [
    "edvi_BY_DAY_Q4PRED.tail()"
   ]
  },
  {
   "cell_type": "code",
   "execution_count": null,
   "metadata": {},
   "outputs": [],
   "source": [
    "df = edvi_BY_DAY_Q4PRED[['acTot']]\n",
    "df = df.reset_index()\n",
    "df = df.rename(columns={\"record_create_time\": \"ds\", \"acTot\": \"y\"})\n",
    "df['ds']= to_datetime(df['ds'])\n",
    "df\n",
    "#df.sort_index(inplace=True)"
   ]
  },
  {
   "cell_type": "markdown",
   "metadata": {},
   "source": [
    "### Experiment with holidays"
   ]
  },
  {
   "cell_type": "code",
   "execution_count": null,
   "metadata": {},
   "outputs": [],
   "source": [
    "bronco_homegames = pd.DataFrame({\n",
    "    'holiday' : 'broncos_prs_home',\n",
    "    'ds' : pd.to_datetime(['08-29-2015', '09-03-2015', '09-13-2015', '10-04-2015', \n",
    "                           '11-01-2015', '11-15-2015', '11-29-2015', '12-13-2015',\n",
    "                           '12-28-2015', '01-03-2016', '08-20-2016', '08-27-2016',\n",
    "                           '09-08-2016', '09-18-2016', '10-09-2016', '10-24-2016',\n",
    "                           '10-30-2016', '11-27-2016', '12-18-2016', '01-01-2017',\n",
    "                           '08-26-2017', '08-31-2017', '09-11-2016', '09-17-2017',\n",
    "                           '10-01-2017', '10-15-2017', '11-12-2017', '11-19-2017',\n",
    "                           '12-10-2017', '12-31-2017', '08-11-2018', '08-18-2018',\n",
    "                           '09-09-2018', '09-16-2018', '10-01-2018', '10-14-2018',\n",
    "                           '11-04-2018', '11-25-2018', '12-15-2018', '12-30-2018',\n",
    "                           '08-19-2019', '08-29-2019', '09-15-2019', '09-29-2019',\n",
    "                           '10-13-2019', '10-17-2019', '11-03-2019', '12-01-2019',\n",
    "                           '12-22-2019', '12-29-2019', '09-14-2020', '09-27-2020',\n",
    "                           '10-25-2020', '11-01-2020', '11-22-2020', '11-29-2020',\n",
    "                           '12-19-2020', '01-03-2021'])})\n",
    "friday_13th = pd.DataFrame({\n",
    "    'holiday' : 'friday_13th',\n",
    "    'ds' : pd.to_datetime(['02-13-2015', '03-13-2015', '11-13-2015', '05-13-2016',\n",
    "                           '01-13-2017', '10-13-2017', '04-13-2018', '07-13-2018',\n",
    "                           '09-13-2019', '12-13-2019', '03-13-2020', '11-13-2020'])})\n",
    "bronco_playoffs = pd.DataFrame({\n",
    "    'holiday' : 'broncos_playoffs',\n",
    "    'ds' : pd.to_datetime(['01-17-2016', '01-24-2016'])})\n",
    "bronco_superbowl = pd.DataFrame({    \n",
    "    'holiday' : 'broncos_superbowl_win',\n",
    "    'ds' : pd.to_datetime(['02-07-2016'])})\n",
    "holidays = pd.concat((bronco_homegames, bronco_playoffs, bronco_superbowl, friday_13th))"
   ]
  },
  {
   "cell_type": "markdown",
   "metadata": {},
   "source": [
    "### Create regressor for covid behavior"
   ]
  },
  {
   "cell_type": "code",
   "execution_count": null,
   "metadata": {},
   "outputs": [],
   "source": [
    "# Create regressor to account for preCovid and postCovid times\n",
    "# 100 down to 50 up to 75, can be fine tuned\n",
    "covidRegressor = pd.read_csv(r'C:\\Users\\173566\\Desktop\\Reg2_scaled100.csv')\n",
    "df['covidRegressor']= covidRegressor['regressor']"
   ]
  },
  {
   "cell_type": "markdown",
   "metadata": {},
   "source": [
    "### Model with Prophet"
   ]
  },
  {
   "cell_type": "code",
   "execution_count": null,
   "metadata": {},
   "outputs": [],
   "source": [
    "model = Prophet(changepoint_range=0.95, changepoint_prior_scale=0.25, daily_seasonality=True, \n",
    "                seasonality_mode='multiplicative')#, holidays=holidays)\n",
    "model.add_country_holidays(country_name='US')\n",
    "model.add_regressor('covidRegressor')\n",
    "model.fit(df)"
   ]
  },
  {
   "cell_type": "code",
   "execution_count": null,
   "metadata": {},
   "outputs": [],
   "source": [
    "# Make future dates\n",
    "future_data = model.make_future_dataframe(freq='d', periods=92)\n",
    "future_data['covidRegressor']= covidRegressor['regressor']\n",
    "future_data.tail()"
   ]
  },
  {
   "cell_type": "code",
   "execution_count": null,
   "metadata": {},
   "outputs": [],
   "source": [
    "# Make forecast\n",
    "forecast = model.predict(future_data)\n",
    "forecast[['ds', 'yhat', 'yhat_lower', 'yhat_upper']].tail()"
   ]
  },
  {
   "cell_type": "code",
   "execution_count": null,
   "metadata": {},
   "outputs": [],
   "source": [
    "fig1 = model.plot(forecast)"
   ]
  },
  {
   "cell_type": "code",
   "execution_count": null,
   "metadata": {
    "scrolled": true
   },
   "outputs": [],
   "source": [
    "# Forecast components\n",
    "fig2 = model.plot_components(forecast)"
   ]
  },
  {
   "cell_type": "code",
   "execution_count": null,
   "metadata": {
    "scrolled": true
   },
   "outputs": [],
   "source": [
    "# Trend changepoints\n",
    "changepointsList = model.changepoints\n",
    "model.changepoints"
   ]
  },
  {
   "cell_type": "code",
   "execution_count": null,
   "metadata": {},
   "outputs": [],
   "source": [
    "# Trend changepoints\n",
    "figure = model.plot(forecast)\n",
    "for changepoint in model.changepoints:\n",
    "    plt.axvline(changepoint,ls='--', lw=1)"
   ]
  },
  {
   "cell_type": "code",
   "execution_count": null,
   "metadata": {},
   "outputs": [],
   "source": [
    "# Changepoint magnitude\n",
    "deltas = model.params['delta'].mean(0)\n",
    "fig = plt.figure(facecolor='w')\n",
    "ax = fig.add_subplot(111)\n",
    "ax.bar(range(len(deltas)), deltas)\n",
    "ax.grid(True, which='major', c='gray', ls='-', lw=1, alpha=0.2)\n",
    "ax.set_ylabel('Rate change')\n",
    "ax.set_xlabel('Potential changepoint')\n",
    "fig.tight_layout()"
   ]
  },
  {
   "cell_type": "markdown",
   "metadata": {},
   "source": [
    "## Cross validation"
   ]
  },
  {
   "cell_type": "code",
   "execution_count": null,
   "metadata": {
    "scrolled": true
   },
   "outputs": [],
   "source": [
    "from fbprophet.diagnostics import cross_validation\n",
    "df_cv = cross_validation(model, initial='1095 days',\n",
    "                         period='365 days', horizon = '720 days')"
   ]
  },
  {
   "cell_type": "code",
   "execution_count": null,
   "metadata": {
    "scrolled": true
   },
   "outputs": [],
   "source": [
    "from fbprophet.diagnostics import performance_metrics\n",
    "from fbprophet.plot import plot_cross_validation_metric\n",
    "\n",
    "df_p = performance_metrics(df_cv)\n",
    "df_p.head()"
   ]
  },
  {
   "cell_type": "markdown",
   "metadata": {},
   "source": [
    "## Metrics for Submission"
   ]
  },
  {
   "cell_type": "code",
   "execution_count": null,
   "metadata": {
    "scrolled": true
   },
   "outputs": [],
   "source": [
    "# Make forecast\n",
    "Q4_forecast = forecast[['ds', 'yhat']].set_index('ds')\n",
    "Q4_forecast = Q4_forecast.loc['2020-10':'2020-12']\n",
    "Q4_forecast['yhat'] = round(Q4_forecast['yhat'])"
   ]
  },
  {
   "cell_type": "code",
   "execution_count": null,
   "metadata": {},
   "outputs": [],
   "source": [
    "Q4_actual = edvi_BY_DAY[['acTot']].loc['2020-10':'2020-12']\n",
    "Q4_actual = Q4_actual.rename_axis('ds')"
   ]
  },
  {
   "cell_type": "code",
   "execution_count": null,
   "metadata": {
    "scrolled": true
   },
   "outputs": [],
   "source": [
    "Q4Metrics = Q4_forecast.merge(Q4_actual, on='ds')\n",
    "Q4Metrics.head()"
   ]
  },
  {
   "cell_type": "code",
   "execution_count": null,
   "metadata": {
    "scrolled": true
   },
   "outputs": [],
   "source": [
    "import numpy as np\n",
    "from sklearn.metrics import mean_squared_error, mean_absolute_error\n",
    "# Compute the root-mean-square\n",
    "Q4Metrics_rmse = np.sqrt(mean_squared_error(Q4Metrics.yhat, Q4_actual.acTot))\n",
    "print(Q4Metrics_rmse)"
   ]
  },
  {
   "cell_type": "code",
   "execution_count": null,
   "metadata": {
    "scrolled": true
   },
   "outputs": [],
   "source": [
    "Q4Metrics_mae = mean_absolute_error(Q4Metrics.yhat, Q4_actual.acTot)\n",
    "print(Q4Metrics_mae)"
   ]
  },
  {
   "cell_type": "code",
   "execution_count": null,
   "metadata": {},
   "outputs": [],
   "source": [
    "#Defining MAPE function\n",
    "def MAPE(Y_actual,Y_Predicted):\n",
    "    mape = np.mean(np.abs((Y_Predicted - Y_actual)/Y_actual))*100\n",
    "    return mape\n",
    "Q4Metrics_mape = MAPE(Q4Metrics.yhat, Q4_actual.acTot)\n",
    "print(Q4Metrics_mape)"
   ]
  },
  {
   "cell_type": "code",
   "execution_count": null,
   "metadata": {},
   "outputs": [],
   "source": [
    "#mean absolute error percenatage\n",
    "np.sum(np.abs(Q4Metrics.yhat - Q4_actual.acTot)) / np.sum(Q4_actual.acTot)"
   ]
  },
  {
   "cell_type": "code",
   "execution_count": null,
   "metadata": {},
   "outputs": [],
   "source": [
    "Q4Metrics['Delta'] = Q4Metrics.yhat - Q4_actual.acTot\n",
    "Q4Metrics"
   ]
  },
  {
   "cell_type": "code",
   "execution_count": null,
   "metadata": {},
   "outputs": [],
   "source": [
    "filename = 'Y:\\Team7\\Working\\FBP_2020Q4_total.csv'\n",
    "Q4Metrics.to_csv(filename)"
   ]
  },
  {
   "cell_type": "markdown",
   "metadata": {},
   "source": [
    "# Modeling for 2021 Q1 blind submission "
   ]
  },
  {
   "cell_type": "code",
   "execution_count": null,
   "metadata": {
    "scrolled": true
   },
   "outputs": [],
   "source": [
    "#1All data\n",
    "df = edvi_BY_DAY[['acTot']]\n",
    "df = df.reset_index()\n",
    "df = df.rename(columns={\"record_create_time\": \"ds\", \"acTot\": \"y\"})\n",
    "df['ds']= to_datetime(df['ds'])\n",
    "df['covidRegressor']= covidRegressor['regressor']"
   ]
  },
  {
   "cell_type": "code",
   "execution_count": null,
   "metadata": {},
   "outputs": [],
   "source": [
    "#1\n",
    "model = Prophet(changepoint_range=0.8, changepoint_prior_scale=0.25, daily_seasonality=True, seasonality_mode='multiplicative')\n",
    "model.add_country_holidays(country_name='US')\n",
    "model.add_regressor('covidRegressor')\n",
    "model.fit(df)"
   ]
  },
  {
   "cell_type": "code",
   "execution_count": null,
   "metadata": {},
   "outputs": [],
   "source": [
    "#1 Make future dates\n",
    "future_data = model.make_future_dataframe(freq='d', periods=90)\n",
    "future_data['covidRegressor']= covidRegressor['regressor']\n",
    "future_data.tail()"
   ]
  },
  {
   "cell_type": "code",
   "execution_count": null,
   "metadata": {},
   "outputs": [],
   "source": [
    "#1 Make forecast\n",
    "forecast = model.predict(future_data)\n",
    "forecast[['ds', 'yhat', 'yhat_lower', 'yhat_upper']].tail()"
   ]
  },
  {
   "cell_type": "code",
   "execution_count": null,
   "metadata": {
    "scrolled": true
   },
   "outputs": [],
   "source": [
    "#1\n",
    "fig1 = model.plot(forecast)"
   ]
  },
  {
   "cell_type": "code",
   "execution_count": null,
   "metadata": {},
   "outputs": [],
   "source": [
    "#1 Trend changepoints\n",
    "figure = model.plot(forecast)\n",
    "for changepoint in model.changepoints:\n",
    "    plt.axvline(changepoint,ls='--', lw=1)"
   ]
  },
  {
   "cell_type": "code",
   "execution_count": null,
   "metadata": {},
   "outputs": [],
   "source": [
    "#1 Store forecast\n",
    "Q1_forecast = forecast[['ds', 'yhat']].set_index('ds')\n",
    "Q1_forecast['total'] = round(Q1_forecast['yhat'])#1 Make forecast"
   ]
  },
  {
   "cell_type": "code",
   "execution_count": null,
   "metadata": {},
   "outputs": [],
   "source": [
    "#2All data\n",
    "df = edvi_BY_DAY[['lowAcuity']]\n",
    "df = df.reset_index()\n",
    "df = df.rename(columns={\"record_create_time\": \"ds\", \"lowAcuity\": \"y\"})\n",
    "df['ds']= to_datetime(df['ds'])\n",
    "df['covidRegressor']= covidRegressor['regressor']"
   ]
  },
  {
   "cell_type": "code",
   "execution_count": null,
   "metadata": {},
   "outputs": [],
   "source": [
    "#2\n",
    "model = Prophet(changepoint_range=0.8, changepoint_prior_scale=0.25, daily_seasonality=True, seasonality_mode='multiplicative')\n",
    "model.add_country_holidays(country_name='US')\n",
    "model.add_regressor('covidRegressor')\n",
    "model.fit(df)"
   ]
  },
  {
   "cell_type": "code",
   "execution_count": null,
   "metadata": {},
   "outputs": [],
   "source": [
    "#2 Make future dates\n",
    "future_data = model.make_future_dataframe(freq='d', periods=90)\n",
    "future_data['covidRegressor']= covidRegressor['regressor']\n",
    "future_data.tail()"
   ]
  },
  {
   "cell_type": "code",
   "execution_count": null,
   "metadata": {},
   "outputs": [],
   "source": [
    "#2 Make forecast\n",
    "forecast = model.predict(future_data)\n",
    "forecast[['ds', 'yhat', 'yhat_lower', 'yhat_upper']].tail()"
   ]
  },
  {
   "cell_type": "code",
   "execution_count": null,
   "metadata": {},
   "outputs": [],
   "source": [
    "#2 Store forecast\n",
    "Q1_forecast2 = forecast[['ds', 'yhat']].set_index('ds')\n",
    "Q1_forecast2['lowAcuity'] = round(Q1_forecast2['yhat'])"
   ]
  },
  {
   "cell_type": "code",
   "execution_count": null,
   "metadata": {},
   "outputs": [],
   "source": [
    "Q1_forecast2"
   ]
  },
  {
   "cell_type": "code",
   "execution_count": null,
   "metadata": {},
   "outputs": [],
   "source": [
    "#3All data\n",
    "df = edvi_BY_DAY[['highAcuity']]\n",
    "df = df.reset_index()\n",
    "df = df.rename(columns={\"record_create_time\": \"ds\", \"highAcuity\": \"y\"})\n",
    "df['ds']= to_datetime(df['ds'])\n",
    "df['covidRegressor']= covidRegressor['regressor']"
   ]
  },
  {
   "cell_type": "code",
   "execution_count": null,
   "metadata": {},
   "outputs": [],
   "source": [
    "#3\n",
    "model = Prophet(changepoint_range=0.8, changepoint_prior_scale=0.25, daily_seasonality=True, seasonality_mode='multiplicative')\n",
    "model.add_country_holidays(country_name='US')\n",
    "model.add_regressor('covidRegressor')\n",
    "model.fit(df)"
   ]
  },
  {
   "cell_type": "code",
   "execution_count": null,
   "metadata": {},
   "outputs": [],
   "source": [
    "#3 Make future dates\n",
    "future_data = model.make_future_dataframe(freq='d', periods=90)\n",
    "future_data['covidRegressor']= covidRegressor['regressor']\n",
    "future_data.tail()"
   ]
  },
  {
   "cell_type": "code",
   "execution_count": null,
   "metadata": {},
   "outputs": [],
   "source": [
    "#3 Make forecast\n",
    "forecast = model.predict(future_data)\n",
    "forecast[['ds', 'yhat', 'yhat_lower', 'yhat_upper']].tail()"
   ]
  },
  {
   "cell_type": "code",
   "execution_count": null,
   "metadata": {},
   "outputs": [],
   "source": [
    "#3 Store forecast\n",
    "Q1_forecast3 = forecast[['ds', 'yhat']].set_index('ds')\n",
    "Q1_forecast3['highAcuity'] = round(Q1_forecast3['yhat'])"
   ]
  },
  {
   "cell_type": "code",
   "execution_count": null,
   "metadata": {},
   "outputs": [],
   "source": [
    "Q1_forecast = Q1_forecast.loc['2021':'2021']\n",
    "Q1_forecast2 = Q1_forecast2.loc['2021':'2021']\n",
    "Q1_forecast3 = Q1_forecast3.loc['2021':'2021']\n",
    "\n",
    "result1 = pd.merge(Q1_forecast, Q1_forecast3, on=\"ds\")\n",
    "output = pd.merge(result1, Q1_forecast2, on=\"ds\")\n",
    "\n",
    "output.to_csv('Y:\\Team7\\Working\\Team17_prophet_final.csv')"
   ]
  }
 ],
 "metadata": {
  "kernelspec": {
   "display_name": "Python 3",
   "language": "python",
   "name": "python3"
  },
  "language_info": {
   "codemirror_mode": {
    "name": "ipython",
    "version": 3
   },
   "file_extension": ".py",
   "mimetype": "text/x-python",
   "name": "python",
   "nbconvert_exporter": "python",
   "pygments_lexer": "ipython3",
   "version": "3.8.8"
  }
 },
 "nbformat": 4,
 "nbformat_minor": 4
}
